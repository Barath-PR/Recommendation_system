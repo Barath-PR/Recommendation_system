{
 "cells": [
  {
   "cell_type": "code",
   "execution_count": 2,
   "metadata": {},
   "outputs": [
    {
     "data": {
      "text/html": [
       "<div>\n",
       "<style scoped>\n",
       "    .dataframe tbody tr th:only-of-type {\n",
       "        vertical-align: middle;\n",
       "    }\n",
       "\n",
       "    .dataframe tbody tr th {\n",
       "        vertical-align: top;\n",
       "    }\n",
       "\n",
       "    .dataframe thead th {\n",
       "        text-align: right;\n",
       "    }\n",
       "</style>\n",
       "<table border=\"1\" class=\"dataframe\">\n",
       "  <thead>\n",
       "    <tr style=\"text-align: right;\">\n",
       "      <th></th>\n",
       "      <th>Day_Mins</th>\n",
       "      <th>Day_Calls</th>\n",
       "      <th>Day_Charge</th>\n",
       "      <th>Eve_Mins</th>\n",
       "      <th>Eve_Calls</th>\n",
       "      <th>Eve_Charge</th>\n",
       "      <th>Night_Mins</th>\n",
       "      <th>Night_Calls</th>\n",
       "      <th>Night_Charge</th>\n",
       "      <th>Intl_Mins</th>\n",
       "      <th>Intl_Calls</th>\n",
       "      <th>Intl_Charge</th>\n",
       "      <th>Cluster</th>\n",
       "    </tr>\n",
       "  </thead>\n",
       "  <tbody>\n",
       "    <tr>\n",
       "      <th>0</th>\n",
       "      <td>469.80</td>\n",
       "      <td>90</td>\n",
       "      <td>48.480</td>\n",
       "      <td>486.0</td>\n",
       "      <td>488</td>\n",
       "      <td>48.4600</td>\n",
       "      <td>440.8</td>\n",
       "      <td>406</td>\n",
       "      <td>9.490</td>\n",
       "      <td>44.60</td>\n",
       "      <td>6</td>\n",
       "      <td>8.48</td>\n",
       "      <td>13</td>\n",
       "    </tr>\n",
       "    <tr>\n",
       "      <th>1</th>\n",
       "      <td>282.20</td>\n",
       "      <td>328</td>\n",
       "      <td>26.320</td>\n",
       "      <td>296.8</td>\n",
       "      <td>286</td>\n",
       "      <td>26.6900</td>\n",
       "      <td>326.2</td>\n",
       "      <td>209</td>\n",
       "      <td>20.200</td>\n",
       "      <td>8.20</td>\n",
       "      <td>8</td>\n",
       "      <td>2.32</td>\n",
       "      <td>21</td>\n",
       "    </tr>\n",
       "    <tr>\n",
       "      <th>2</th>\n",
       "      <td>202.00</td>\n",
       "      <td>224</td>\n",
       "      <td>22.420</td>\n",
       "      <td>224.4</td>\n",
       "      <td>242</td>\n",
       "      <td>9.3400</td>\n",
       "      <td>244.3</td>\n",
       "      <td>204</td>\n",
       "      <td>4.290</td>\n",
       "      <td>22.20</td>\n",
       "      <td>4</td>\n",
       "      <td>4.04</td>\n",
       "      <td>1</td>\n",
       "    </tr>\n",
       "    <tr>\n",
       "      <th>3</th>\n",
       "      <td>282.20</td>\n",
       "      <td>92</td>\n",
       "      <td>28.820</td>\n",
       "      <td>262.2</td>\n",
       "      <td>98</td>\n",
       "      <td>28.2800</td>\n",
       "      <td>286.9</td>\n",
       "      <td>86</td>\n",
       "      <td>22.920</td>\n",
       "      <td>22.20</td>\n",
       "      <td>2</td>\n",
       "      <td>8.00</td>\n",
       "      <td>0</td>\n",
       "    </tr>\n",
       "    <tr>\n",
       "      <th>4</th>\n",
       "      <td>222.11</td>\n",
       "      <td>26</td>\n",
       "      <td>22.211</td>\n",
       "      <td>222.2</td>\n",
       "      <td>222</td>\n",
       "      <td>211.1111</td>\n",
       "      <td>2110.2</td>\n",
       "      <td>2211</td>\n",
       "      <td>22.211</td>\n",
       "      <td>211.11</td>\n",
       "      <td>11</td>\n",
       "      <td>2.29</td>\n",
       "      <td>24</td>\n",
       "    </tr>\n",
       "  </tbody>\n",
       "</table>\n",
       "</div>"
      ],
      "text/plain": [
       "   Day_Mins  Day_Calls  Day_Charge  Eve_Mins  Eve_Calls  Eve_Charge  \\\n",
       "0    469.80         90      48.480     486.0        488     48.4600   \n",
       "1    282.20        328      26.320     296.8        286     26.6900   \n",
       "2    202.00        224      22.420     224.4        242      9.3400   \n",
       "3    282.20         92      28.820     262.2         98     28.2800   \n",
       "4    222.11         26      22.211     222.2        222    211.1111   \n",
       "\n",
       "   Night_Mins  Night_Calls  Night_Charge  Intl_Mins  Intl_Calls  Intl_Charge  \\\n",
       "0       440.8          406         9.490      44.60           6         8.48   \n",
       "1       326.2          209        20.200       8.20           8         2.32   \n",
       "2       244.3          204         4.290      22.20           4         4.04   \n",
       "3       286.9           86        22.920      22.20           2         8.00   \n",
       "4      2110.2         2211        22.211     211.11          11         2.29   \n",
       "\n",
       "   Cluster  \n",
       "0       13  \n",
       "1       21  \n",
       "2        1  \n",
       "3        0  \n",
       "4       24  "
      ]
     },
     "execution_count": 2,
     "metadata": {},
     "output_type": "execute_result"
    }
   ],
   "source": [
    "import pandas as pd\n",
    "\n",
    "# Load the dataset\n",
    "df = pd.read_csv('Clustere_Dataset_1.csv')\n",
    "df = df.drop('Unnamed: 0', axis =1)\n",
    "df.columns = df.columns.str.replace(' ', '_')\n",
    "df.head()\n"
   ]
  },
  {
   "cell_type": "code",
   "execution_count": 3,
   "metadata": {},
   "outputs": [],
   "source": [
    "df.to_csv('Clustereddata.csv')"
   ]
  },
  {
   "cell_type": "code",
   "execution_count": null,
   "metadata": {},
   "outputs": [],
   "source": [
    "# Group by the 'cluster' column\n",
    "grouped_df = df.groupby('Cluster')\n"
   ]
  },
  {
   "cell_type": "code",
   "execution_count": null,
   "metadata": {},
   "outputs": [],
   "source": [
    "import os\n",
    "\n",
    "# Create a directory for the output files\n",
    "output_dir = 'cluster_groups'\n",
    "os.makedirs(output_dir, exist_ok=True)\n",
    "\n",
    "# Iterate over each group and save to a file\n",
    "for cluster_label in sorted(grouped_df.groups.keys()):\n",
    "    group_data = grouped_df.get_group(cluster_label)\n",
    "    file_path = os.path.join(output_dir, f'cluster_{cluster_label}.csv')\n",
    "    group_data.to_csv(file_path, index=False)"
   ]
  },
  {
   "cell_type": "code",
   "execution_count": null,
   "metadata": {},
   "outputs": [],
   "source": [
    "group_data\n"
   ]
  },
  {
   "cell_type": "code",
   "execution_count": null,
   "metadata": {},
   "outputs": [],
   "source": []
  },
  {
   "cell_type": "code",
   "execution_count": null,
   "metadata": {},
   "outputs": [],
   "source": [
    "df"
   ]
  },
  {
   "cell_type": "code",
   "execution_count": null,
   "metadata": {},
   "outputs": [],
   "source": []
  }
 ],
 "metadata": {
  "kernelspec": {
   "display_name": "myenv",
   "language": "python",
   "name": "python3"
  },
  "language_info": {
   "codemirror_mode": {
    "name": "ipython",
    "version": 3
   },
   "file_extension": ".py",
   "mimetype": "text/x-python",
   "name": "python",
   "nbconvert_exporter": "python",
   "pygments_lexer": "ipython3",
   "version": "3.12.3"
  }
 },
 "nbformat": 4,
 "nbformat_minor": 2
}
